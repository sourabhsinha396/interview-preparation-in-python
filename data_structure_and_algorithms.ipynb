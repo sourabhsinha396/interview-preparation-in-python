{
 "cells": [
  {
   "cell_type": "markdown",
   "metadata": {
    "colab_type": "text",
    "id": "view-in-github"
   },
   "source": [
    "<a href=\"https://colab.research.google.com/github/sourabhsinha396/leetcode-solutions-in-python-with-tests/blob/main/data_structure_and_algorithms.ipynb\" target=\"_parent\"><img src=\"https://colab.research.google.com/assets/colab-badge.svg\" alt=\"Open In Colab\"/></a>"
   ]
  },
  {
   "cell_type": "markdown",
   "metadata": {
    "id": "MUKNnbp5yqnx"
   },
   "source": [
    "# Linked List ⛹\n",
    "\n",
    "---\n",
    "\n"
   ]
  },
  {
   "cell_type": "markdown",
   "metadata": {
    "id": "WfkqS3XRtjOn"
   },
   "source": [
    "**Insertion at head**\n",
    "###### Time complexity = O(1) As we are always inserting the node to the beginning without any need for traversal.\n"
   ]
  },
  {
   "cell_type": "code",
   "execution_count": null,
   "metadata": {
    "colab": {
     "base_uri": "https://localhost:8080/"
    },
    "id": "b0zZzKHDyiQ3",
    "outputId": "c0819ff6-05c0-4fcf-fbbc-dddb97d62d1a"
   },
   "outputs": [
    {
     "name": "stdout",
     "output_type": "stream",
     "text": [
      "9 >> 8 >> 7 >> 6 >> 5 >> 4 >> 3 >> 2 >> 1 >> 0\n"
     ]
    }
   ],
   "source": [
    "\n",
    "class Node:\n",
    "  def __init__(self,data):\n",
    "    self.data = data\n",
    "    self.next = None\n",
    "\n",
    "\n",
    "class LinkedList:\n",
    "  def __init__(self):\n",
    "    self.head= None\n",
    "\n",
    "  def insert_at_head(self,data):\n",
    "    temp_node = Node(data)\n",
    "    temp_node.next = self.head\n",
    "    self.head = temp_node\n",
    "    return self.head\n",
    "  \n",
    "  def is_empty(self):\n",
    "    if self.head is None:\n",
    "      return True\n",
    "    return False\n",
    "\n",
    "  def print_list(self):\n",
    "    if self.is_empty():\n",
    "      return False\n",
    "\n",
    "    temp = self.head\n",
    "    while(temp.next is not None):\n",
    "      print(temp.data,end = \" >> \")\n",
    "      temp = temp.next\n",
    "    print(temp.data)\n",
    "\n",
    "\n",
    "lst = LinkedList()\n",
    "lst.print_list()\n",
    "\n",
    "\n",
    "\n",
    "for i in range(10):\n",
    "  lst.insert_at_head(i)\n",
    "\n",
    "lst.print_list()"
   ]
  },
  {
   "cell_type": "markdown",
   "metadata": {
    "id": "tm5Tz18qtvir"
   },
   "source": [
    "**Insertion at the end of linked list**\n",
    "\n",
    "Time complexity: O(n) as we have to traverse sequentially to the end of linked list.It can be transfored to O(1) by the overhead of having \n",
    "1 more pointer that always points to the last node."
   ]
  },
  {
   "cell_type": "code",
   "execution_count": 10,
   "metadata": {
    "colab": {
     "base_uri": "https://localhost:8080/"
    },
    "id": "heY7rQjnMY_b",
    "outputId": "f25f6c2e-0cdf-46c3-8731-fc42cc132942"
   },
   "outputs": [
    {
     "name": "stdout",
     "output_type": "stream",
     "text": [
      "None\n",
      "0 >> 1 >> 2 >> 3 >> 4 >> 5 >> 6 >> 7 >> 8 >> 9\n"
     ]
    }
   ],
   "source": [
    "\n",
    "class Node:\n",
    "  def __init__(self,data):\n",
    "    self.data = data\n",
    "    self.next = None\n",
    "\n",
    "\n",
    "class LinkedList():\n",
    "  def __init__(self):\n",
    "    self.head = None\n",
    "\n",
    "  def is_empty(self):\n",
    "    if self.head == None:\n",
    "      return True\n",
    "    return False\n",
    "\n",
    "  def insert(self,data):\n",
    "    node =  Node(data)\n",
    "    temp = self.head\n",
    "\n",
    "    if temp == None:\n",
    "      self.head = node\n",
    "      return\n",
    "    \n",
    "    while(temp.next is not None):\n",
    "      temp = temp.next\n",
    "    temp.next = node\n",
    "\n",
    "  def print_list(self):\n",
    "    if self.is_empty():\n",
    "      print(None)\n",
    "      return None\n",
    "    temp = self.head\n",
    "    while(temp.next is not None):\n",
    "      print(temp.data, end=\" >> \")\n",
    "      temp = temp.next\n",
    "    print(temp.data)\n",
    "\n",
    "  \n",
    "lst = LinkedList()\n",
    "lst.print_list()\n",
    "\n",
    "\n",
    "\n",
    "for i in range(10):\n",
    "  lst.insert(i)\n",
    "\n",
    "lst.print_list()"
   ]
  },
  {
   "cell_type": "markdown",
   "metadata": {},
   "source": [
    "**Searching in a linked list**\n",
    "\n",
    "Time Complexity: O(n) Since, we need to traverse the linked list, In worst case,\n",
    "It might take visiting n nodes."
   ]
  },
  {
   "cell_type": "code",
   "execution_count": 8,
   "metadata": {},
   "outputs": [
    {
     "name": "stdout",
     "output_type": "stream",
     "text": [
      "9 >> 8 >> 7 >> 6 >> 5 >> 4 >> 3 >> 2 >> 1 >> 0\n",
      "Data found at 6th node\n",
      "Could not find the data\n"
     ]
    }
   ],
   "source": [
    "class Node:\n",
    "    def __init__(self,data):\n",
    "        self.data = data\n",
    "        self.next = None \n",
    "\n",
    "\n",
    "class LinkedList:\n",
    "    def __init__(self):\n",
    "        self.head = None\n",
    "\n",
    "    def insert(self,data):\n",
    "        temp_node = Node(data)\n",
    "        temp_node.next = self.head\n",
    "        self.head = temp_node\n",
    "        return self.head\n",
    "\n",
    "    def search(self,data):\n",
    "        temp = self.head\n",
    "        count = 0\n",
    "        while(temp.next is not None and temp.data!=data):\n",
    "            # print(temp.data)\n",
    "            count += 1\n",
    "            temp = temp.next\n",
    "        \n",
    "        if temp.data==data:\n",
    "            print(f\"Data found at {count+1}th node\")\n",
    "            return count\n",
    "        print(\"Could not find the data\")\n",
    "        return None\n",
    "\n",
    "    def is_empty(self):\n",
    "        if self.head == None:\n",
    "            return True\n",
    "        return False\n",
    "\n",
    "    def print_list(self):\n",
    "        if self.is_empty():\n",
    "            print(None)\n",
    "            return None\n",
    "        temp = self.head\n",
    "        while(temp.next is not None):\n",
    "            print(temp.data, end=\" >> \")\n",
    "            temp = temp.next\n",
    "        print(temp.data)\n",
    "\n",
    "\n",
    "lst = LinkedList()\n",
    "for i in range(10):\n",
    "    lst.insert(i)\n",
    "\n",
    "lst.print_list()\n",
    "lst.search(4)\n",
    "lst.search(12)\n"
   ]
  },
  {
   "cell_type": "code",
   "execution_count": null,
   "metadata": {},
   "outputs": [],
   "source": []
  },
  {
   "cell_type": "markdown",
   "metadata": {
    "id": "4JWr5ZyRyoCM"
   },
   "source": []
  }
 ],
 "metadata": {
  "colab": {
   "authorship_tag": "ABX9TyMPNp0BSEJJRj54pcpPilAh",
   "collapsed_sections": [],
   "include_colab_link": true,
   "provenance": []
  },
  "kernelspec": {
   "display_name": "Python 3.10.4 64-bit",
   "language": "python",
   "name": "python3"
  },
  "language_info": {
   "codemirror_mode": {
    "name": "ipython",
    "version": 3
   },
   "file_extension": ".py",
   "mimetype": "text/x-python",
   "name": "python",
   "nbconvert_exporter": "python",
   "pygments_lexer": "ipython3",
   "version": "3.10.4"
  },
  "vscode": {
   "interpreter": {
    "hash": "916dbcbb3f70747c44a77c7bcd40155683ae19c65e1c03b4aa3499c5328201f1"
   }
  }
 },
 "nbformat": 4,
 "nbformat_minor": 1
}
