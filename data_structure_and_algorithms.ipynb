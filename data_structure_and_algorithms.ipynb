{
  "nbformat": 4,
  "nbformat_minor": 0,
  "metadata": {
    "colab": {
      "provenance": [],
      "collapsed_sections": [],
      "authorship_tag": "ABX9TyMPNp0BSEJJRj54pcpPilAh",
      "include_colab_link": true
    },
    "kernelspec": {
      "name": "python3",
      "display_name": "Python 3"
    },
    "language_info": {
      "name": "python"
    }
  },
  "cells": [
    {
      "cell_type": "markdown",
      "metadata": {
        "id": "view-in-github",
        "colab_type": "text"
      },
      "source": [
        "<a href=\"https://colab.research.google.com/github/sourabhsinha396/leetcode-solutions-in-python-with-tests/blob/main/data_structure_and_algorithms.ipynb\" target=\"_parent\"><img src=\"https://colab.research.google.com/assets/colab-badge.svg\" alt=\"Open In Colab\"/></a>"
      ]
    },
    {
      "cell_type": "markdown",
      "source": [
        "# Linked List ⛹\n",
        "\n",
        "---\n",
        "\n"
      ],
      "metadata": {
        "id": "MUKNnbp5yqnx"
      }
    },
    {
      "cell_type": "markdown",
      "source": [
        "**Insertion at head**\n",
        "###### Time complexity = O(1) As we are always inserting the node to the beginning without any need for traversal.\n"
      ],
      "metadata": {
        "id": "WfkqS3XRtjOn"
      }
    },
    {
      "cell_type": "code",
      "execution_count": null,
      "metadata": {
        "colab": {
          "base_uri": "https://localhost:8080/"
        },
        "id": "b0zZzKHDyiQ3",
        "outputId": "c0819ff6-05c0-4fcf-fbbc-dddb97d62d1a"
      },
      "outputs": [
        {
          "output_type": "stream",
          "name": "stdout",
          "text": [
            "9 >> 8 >> 7 >> 6 >> 5 >> 4 >> 3 >> 2 >> 1 >> 0\n"
          ]
        }
      ],
      "source": [
        "\n",
        "class Node:\n",
        "  def __init__(self,data):\n",
        "    self.data = data\n",
        "    self.next = None\n",
        "\n",
        "\n",
        "class LinkedList:\n",
        "  def __init__(self):\n",
        "    self.head= None\n",
        "\n",
        "  def insert_at_head(self,data):\n",
        "    temp_node = Node(data)\n",
        "    temp_node.next = self.head\n",
        "    self.head = temp_node\n",
        "    return self.head\n",
        "  \n",
        "  def is_empty(self):\n",
        "    if self.head is None:\n",
        "      return True\n",
        "    return False\n",
        "\n",
        "  def print_list(self):\n",
        "    if self.is_empty():\n",
        "      return False\n",
        "\n",
        "    temp = self.head\n",
        "    while(temp.next is not None):\n",
        "      print(temp.data,end = \" >> \")\n",
        "      temp = temp.next\n",
        "    print(temp.data)\n",
        "\n",
        "\n",
        "lst = LinkedList()\n",
        "lst.print_list()\n",
        "\n",
        "\n",
        "\n",
        "for i in range(10):\n",
        "  lst.insert_at_head(i)\n",
        "\n",
        "lst.print_list()"
      ]
    },
    {
      "cell_type": "markdown",
      "source": [
        "**Insertion at the end of linked list**\n",
        "\n",
        "Time complexity: O(n) as we have to traverse sequentially to the end of linked list.It can be transfored to O(1) by the overhead of having \n",
        "1 more pointer that always points to the last node."
      ],
      "metadata": {
        "id": "tm5Tz18qtvir"
      }
    },
    {
      "cell_type": "code",
      "source": [
        "\n",
        "class Node:\n",
        "  def __init__(self,data):\n",
        "    self.data = data\n",
        "    self.next = None\n",
        "\n",
        "\n",
        "class LinkedList():\n",
        "  def __init__(self):\n",
        "    self.head = None\n",
        "\n",
        "  def is_empty(self):\n",
        "    if self.head == None:\n",
        "      return True\n",
        "    return False\n",
        "\n",
        "  def insert(self,data):\n",
        "    node =  Node(data)\n",
        "    temp = self.head\n",
        "\n",
        "    if temp == None:\n",
        "      self.head = node\n",
        "      return\n",
        "    \n",
        "    while(temp.next is not None):\n",
        "      temp = temp.next\n",
        "    temp.next = node\n",
        "\n",
        "  def print_list(self):\n",
        "    if self.is_empty():\n",
        "      print(None)\n",
        "      return None\n",
        "    temp = self.head\n",
        "    while(temp.next is not None):\n",
        "      print(temp.data, end=\" >> \")\n",
        "      temp = temp.next\n",
        "    print(temp.data)\n",
        "\n",
        "  \n",
        "lst = LinkedList()\n",
        "lst.print_list()\n",
        "\n",
        "\n",
        "\n",
        "for i in range(10):\n",
        "  lst.insert(i)\n",
        "\n",
        "lst.print_list()"
      ],
      "metadata": {
        "colab": {
          "base_uri": "https://localhost:8080/"
        },
        "id": "heY7rQjnMY_b",
        "outputId": "f25f6c2e-0cdf-46c3-8731-fc42cc132942"
      },
      "execution_count": 10,
      "outputs": [
        {
          "output_type": "stream",
          "name": "stdout",
          "text": [
            "None\n",
            "0 >> 1 >> 2 >> 3 >> 4 >> 5 >> 6 >> 7 >> 8 >> 9\n"
          ]
        }
      ]
    },
    {
      "cell_type": "markdown",
      "source": [],
      "metadata": {
        "id": "4JWr5ZyRyoCM"
      }
    }
  ]
}