{
 "cells": [
  {
   "cell_type": "markdown",
   "metadata": {},
   "source": [
    "#### Techniques used by Software Craftsperson from the perspective of a Python developer."
   ]
  },
  {
   "cell_type": "markdown",
   "metadata": {},
   "source": [
    "**Type Hinting**\n",
    "- Python is a dynamic and strongly typed programming language.\n",
    "- Dynamic as most type errors are checked at runtime.\n",
    "- Strongly because unlike Javascript it does not adds 5+str(5)"
   ]
  },
  {
   "cell_type": "code",
   "execution_count": 1,
   "metadata": {},
   "outputs": [
    {
     "data": {
      "text/plain": [
       "'Your total bill is USD 3040'"
      ]
     },
     "execution_count": 1,
     "metadata": {},
     "output_type": "execute_result"
    }
   ],
   "source": [
    "def total_price(price_1,price_2):\n",
    "    return f\"Your total bill is USD {price_1+price_2}\"\n",
    "        \n",
    "total_price('30','40') #ideally prices should have been integer value!"
   ]
  },
  {
   "cell_type": "code",
   "execution_count": 2,
   "metadata": {},
   "outputs": [
    {
     "name": "stderr",
     "output_type": "stream",
     "text": [
      "Version 1.0.4\n"
     ]
    }
   ],
   "source": [
    "# mypy is a beautiful static type checker, For jupyter notbooks let's use\n",
    "# nb_mypy\n",
    "%load_ext nb_mypy"
   ]
  },
  {
   "cell_type": "code",
   "execution_count": 3,
   "metadata": {},
   "outputs": [
    {
     "name": "stderr",
     "output_type": "stream",
     "text": [
      "<cell>4: error: Argument 1 to \"total_price\" has incompatible type \"str\"; expected \"int\"\n",
      "<cell>4: error: Argument 2 to \"total_price\" has incompatible type \"str\"; expected \"int\"\n"
     ]
    }
   ],
   "source": [
    "def total_price(price_1:int,price_2:int):\n",
    "    return f\"Your total bill is USD {price_1+price_2}\"\n",
    "        \n",
    "price = total_price('30','40')"
   ]
  },
  {
   "cell_type": "code",
   "execution_count": null,
   "metadata": {},
   "outputs": [],
   "source": []
  }
 ],
 "metadata": {
  "kernelspec": {
   "display_name": "Python 3.10.4 ('env': venv)",
   "language": "python",
   "name": "python3"
  },
  "language_info": {
   "codemirror_mode": {
    "name": "ipython",
    "version": 3
   },
   "file_extension": ".py",
   "mimetype": "text/x-python",
   "name": "python",
   "nbconvert_exporter": "python",
   "pygments_lexer": "ipython3",
   "version": "3.10.4"
  },
  "orig_nbformat": 4,
  "vscode": {
   "interpreter": {
    "hash": "1551a4d4462b2ef46c7ecbbc4193c559594ee0848c5060e21a55adfdfe58dc61"
   }
  }
 },
 "nbformat": 4,
 "nbformat_minor": 2
}
